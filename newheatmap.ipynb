{
  "cells": [
    {
      "metadata": {
        "trusted": true
      },
      "cell_type": "code",
      "source": "!pip install geopandas\n!pip install pysal",
      "execution_count": 76,
      "outputs": [
        {
          "output_type": "stream",
          "text": "Requirement already satisfied: geopandas in /home/nbuser/anaconda2_501/lib/python2.7/site-packages (0.6.2)\nRequirement already satisfied: pyproj in /home/nbuser/anaconda2_501/lib/python2.7/site-packages (from geopandas) (2.2.2)\nRequirement already satisfied: shapely in /home/nbuser/anaconda2_501/lib/python2.7/site-packages (from geopandas) (1.6.4.post2)\nRequirement already satisfied: pandas>=0.23.0 in /home/nbuser/anaconda2_501/lib/python2.7/site-packages (from geopandas) (0.24.2)\nRequirement already satisfied: fiona in /home/nbuser/anaconda2_501/lib/python2.7/site-packages (from geopandas) (1.8.13)\nRequirement already satisfied: aenum; python_version < \"3.6\" in /home/nbuser/anaconda2_501/lib/python2.7/site-packages (from pyproj->geopandas) (2.2.3)\nRequirement already satisfied: pytz>=2011k in /home/nbuser/anaconda2_501/lib/python2.7/site-packages (from pandas>=0.23.0->geopandas) (2019.3)\nRequirement already satisfied: numpy>=1.12.0 in /home/nbuser/anaconda2_501/lib/python2.7/site-packages (from pandas>=0.23.0->geopandas) (1.16.6)\nRequirement already satisfied: python-dateutil>=2.5.0 in /home/nbuser/anaconda2_501/lib/python2.7/site-packages (from pandas>=0.23.0->geopandas) (2.8.1)\nRequirement already satisfied: attrs>=17 in /home/nbuser/anaconda2_501/lib/python2.7/site-packages (from fiona->geopandas) (19.3.0)\nRequirement already satisfied: click-plugins>=1.0 in /home/nbuser/anaconda2_501/lib/python2.7/site-packages (from fiona->geopandas) (1.1.1)\nRequirement already satisfied: munch in /home/nbuser/anaconda2_501/lib/python2.7/site-packages (from fiona->geopandas) (2.5.0)\nRequirement already satisfied: cligj>=0.5 in /home/nbuser/anaconda2_501/lib/python2.7/site-packages (from fiona->geopandas) (0.5.0)\nRequirement already satisfied: enum34; python_version < \"3.4\" in /home/nbuser/anaconda2_501/lib/python2.7/site-packages (from fiona->geopandas) (1.1.6)\nRequirement already satisfied: click<8,>=4.0 in /home/nbuser/anaconda2_501/lib/python2.7/site-packages (from fiona->geopandas) (7.0)\nRequirement already satisfied: six>=1.7 in /home/nbuser/anaconda2_501/lib/python2.7/site-packages (from fiona->geopandas) (1.13.0)\nRequirement already satisfied: pysal in /home/nbuser/anaconda2_501/lib/python2.7/site-packages (1.14.4)\nRequirement already satisfied: scipy>=0.11 in /home/nbuser/anaconda2_501/lib/python2.7/site-packages (from pysal) (1.1.0)\nRequirement already satisfied: numpy>=1.3 in /home/nbuser/anaconda2_501/lib/python2.7/site-packages (from pysal) (1.16.6)\n",
          "name": "stdout"
        }
      ]
    },
    {
      "metadata": {
        "trusted": true
      },
      "cell_type": "code",
      "source": "!pip install --ignore-installed geopandas",
      "execution_count": null,
      "outputs": [
        {
          "output_type": "stream",
          "text": "Collecting geopandas\n  Using cached https://files.pythonhosted.org/packages/5b/0c/e6c99e561b03482220f00443f610ccf4dce9b50f4b1093d735f93c6fc8c6/geopandas-0.6.2-py2.py3-none-any.whl\nCollecting pyproj (from geopandas)\n  Using cached https://files.pythonhosted.org/packages/9b/9a/04dcffd4ff9bc064c05f723be71177cfb593d5ce6e4d6185c3ef8b7a4be9/pyproj-2.2.2-cp27-cp27mu-manylinux1_x86_64.whl\nCollecting shapely (from geopandas)\n  Using cached https://files.pythonhosted.org/packages/81/d1/b8e1b089a8ddd6df74be583d70373eac55c725c6197c115efbd3c3e1509f/Shapely-1.6.4.post2-cp27-cp27mu-manylinux1_x86_64.whl\nCollecting pandas>=0.23.0 (from geopandas)\n  Using cached https://files.pythonhosted.org/packages/db/83/7d4008ffc2988066ff37f6a0bb6d7b60822367dcb36ba5e39aa7801fda54/pandas-0.24.2-cp27-cp27mu-manylinux1_x86_64.whl\nCollecting fiona (from geopandas)\n  Using cached https://files.pythonhosted.org/packages/89/dd/289641061a69bb9b302e9fd52e5532f8345f6b277d8f4c98419fbbef1a14/Fiona-1.8.13-cp27-cp27mu-manylinux1_x86_64.whl\n",
          "name": "stdout"
        }
      ]
    },
    {
      "metadata": {
        "trusted": true
      },
      "cell_type": "code",
      "source": "!pip install pysal==2.0.0",
      "execution_count": null,
      "outputs": []
    },
    {
      "metadata": {
        "trusted": true
      },
      "cell_type": "code",
      "source": "!pip install descartes",
      "execution_count": null,
      "outputs": []
    },
    {
      "metadata": {
        "trusted": true
      },
      "cell_type": "code",
      "source": "import geopandas as gp\nimport pandas as pd\nimport matplotlib.pyplot as plt\nimport matplotlib\nimport pylab\nimport descartes\nimport numpy as np\n#import seaborn as sns\n#import time\n#import os\n\n%matplotlib inline\n\nplt.style.use('ggplot')\npylab.rcParams['figure.figsize'] = (40., 32.)",
      "execution_count": null,
      "outputs": []
    },
    {
      "metadata": {
        "trusted": true
      },
      "cell_type": "code",
      "source": "data = \"data/borough_heatmap/London_Borough_Excluding_MHW.shp\"\n\nmapBoroughs = gp.read_file(data)\nmapBoroughs.head()",
      "execution_count": null,
      "outputs": []
    },
    {
      "metadata": {
        "trusted": true
      },
      "cell_type": "code",
      "source": "mapBoroughs.crs = {'init': u'epsg:4326'}\ntarget_crs = {'datum':'WGS84', 'no_defs':True, 'proj':'merc'}\nprojected_mapBoroughs = mapBoroughs.to_crs(crs=target_crs)",
      "execution_count": null,
      "outputs": []
    },
    {
      "metadata": {
        "trusted": true
      },
      "cell_type": "code",
      "source": "data_path = \"./data/borough_heatmap/MPS Borough Level Crime (most recent 24 months).csv\"\n\nsexassaults = pd.read_csv(data_path)\nsexassaults= sexassaults[sexassaults['MajorText']=='Sexual Offences']\nsexassaults.head()",
      "execution_count": null,
      "outputs": []
    },
    {
      "metadata": {
        "trusted": true
      },
      "cell_type": "code",
      "source": "sexassaults=sexassaults.set_index(['LookUp_BoroughName'])\nsexassaults['2019']=(sexassaults['201901']+sexassaults['201902']+sexassaults['201903']+sexassaults['201904']\n                     +sexassaults['201905']+sexassaults['201906']+sexassaults['201907']+sexassaults['201908']\n                     +sexassaults['201909']+sexassaults['201910']+sexassaults['201911'])\nsexassaults= sexassaults.drop(columns=['201712', '201802','201801','201802','201803','201804','201805',\n                                       '201806','201807','201808','201809','201810','201811','201812',\n                                       '201901','201902','201903','201904','201905','201906','201907',\n                                       '201908','201909','201910','201911'])\nsexassaults.head()",
      "execution_count": null,
      "outputs": []
    },
    {
      "metadata": {
        "trusted": true
      },
      "cell_type": "code",
      "source": "total = sexassaults.groupby(['LookUp_BoroughName'])['2019'].sum()\nsexassaults['Total'] = total\nsexassaults.head()",
      "execution_count": null,
      "outputs": []
    },
    {
      "metadata": {
        "trusted": true
      },
      "cell_type": "code",
      "source": "geosexassaults = mapBoroughs.merge(sexassaults, left_on= 'NAME', right_on= 'LookUp_BoroughName', how= 'inner')\ngeosexassaults",
      "execution_count": null,
      "outputs": []
    },
    {
      "metadata": {
        "trusted": true
      },
      "cell_type": "code",
      "source": "cols = geosexassaults.columns.tolist()\ncols = cols[-1:] + cols[:-1]\ngeosexassaults = geosexassaults [cols]\n#changed column order for .sum .groupby need elemnt to be index and 2019 column to be right next one to itù\n#geosexassaults",
      "execution_count": null,
      "outputs": []
    },
    {
      "metadata": {
        "trusted": true
      },
      "cell_type": "code",
      "source": "original_crs = geosexassaults.crs\ntarget_crs = {'datum':'WGS84', 'no_defs':True, 'proj':'merc'}\nprojected_geosexassaults = geosexassaults.to_crs(crs=target_crs)\ngeosexassaults",
      "execution_count": null,
      "outputs": []
    },
    {
      "metadata": {
        "trusted": true
      },
      "cell_type": "code",
      "source": "#Install the geopandas module\n!pip install --ignore-installed geopandas\n\n#Uninstall any existing version; forcing Yes\n!pip uninstall --yes pysal\n\n#Install newest branch\n!pip install pysal==1.14.4",
      "execution_count": null,
      "outputs": []
    },
    {
      "metadata": {
        "trusted": true
      },
      "cell_type": "code",
      "source": "#to get the geographic information: \noriginal_crs = geosexassaults.crs\ntarget_crs = {'datum':'WGS84', 'no_defs':True, 'proj':'merc'}\nprojected_geosexassaults = geosexassaults.to_crs(crs=target_crs)\n\n# Convenience functions for working with colour ramps and bars\ndef colorbar_index(ncolors, cmap, labels=None, **kwargs):\n    \"\"\"\n    This is a convenience function to stop you making off-by-one errors\n    Takes a standard colour ramp, and discretizes it,\n    then draws a colour bar with correctly aligned labels\n    \"\"\"\n    cmap = cmap_discretize(cmap, ncolors)\n    mappable = plt.cm.ScalarMappable(cmap=cmap)\n    mappable.set_array([])\n    mappable.set_clim(-0.5, ncolors+0.5)\n    colorbar = matplotlib.pyplot.colorbar(mappable, **kwargs)\n    colorbar.set_ticks(np.linspace(0, ncolors, ncolors))\n    colorbar.set_ticklabels(range(ncolors))\n    if labels:\n        colorbar.set_ticklabels(labels)\n    return colorbar\n\ndef cmap_discretize(cmap, N):\n    \"\"\"\n    Return a discrete colormap from the continuous colormap cmap.\n\n        cmap: colormap instance, eg. cm.jet. \n        N: number of colors.\n\n    Example\n        x = resize(arange(100), (5,100))\n        djet = cmap_discretize(cm.jet, 5)\n        imshow(x, cmap=djet)\n\n    \"\"\"\n    if type(cmap) == str:\n        cmap = get_cmap(cmap)\n    colors_i = np.concatenate((np.linspace(0, 1., N), (0., 0., 0., 0.)))\n    colors_rgba = cmap(colors_i)\n    indices = np.linspace(0, 1., N + 1)\n    cdict = {}\n    for ki, key in enumerate(('red', 'green', 'blue')):\n        cdict[key] = [(indices[i], colors_rgba[i - 1, ki], colors_rgba[i, ki]) for i in xrange(N+1)]\n    return matplotlib.colors.LinearSegmentedColormap(cmap.name + \"_%d\" % N, cdict, 1024)\n\nfrom pysal.esda.mapclassify import Quantiles\n\n# to create and split values for the colorbar\nbreaks = Quantiles(\n    geosexassaults['Total'].values,\n    k=5)\nbar_labels = ['<=%i'% b for b in breaks.bins]\n\n\ngeosexassaults.plot(column='Total', colormap='OrRd', k=5)\nplt.title('London sexual offences 2019', \\\n              fontdict={'fontsize': '50',\n                        'fontweight' : '3'})\n\n# create an annotation for the  data source\nplt.annotate('Source: London Datastore, 2014',\n           xy=(0.1, .08), xycoords='figure fraction',\n           horizontalalignment='left', verticalalignment='top',\n           fontsize=20, color='#555555')\n\n#remove axis\nplt.axis('off')\n\ncmap = plt.get_cmap('OrRd')\ncolorbar_index(ncolors=5, cmap=cmap, shrink=0.5, labels=bar_labels)\nplt.savefig('./data/heat_map/2019map_sexassaults.png',bbox_inches = 'tight')",
      "execution_count": null,
      "outputs": []
    },
    {
      "metadata": {
        "trusted": true
      },
      "cell_type": "code",
      "source": "",
      "execution_count": null,
      "outputs": []
    },
    {
      "metadata": {
        "trusted": true
      },
      "cell_type": "code",
      "source": "",
      "execution_count": null,
      "outputs": []
    },
    {
      "metadata": {
        "trusted": true
      },
      "cell_type": "code",
      "source": "",
      "execution_count": null,
      "outputs": []
    },
    {
      "metadata": {
        "trusted": true
      },
      "cell_type": "code",
      "source": "",
      "execution_count": null,
      "outputs": []
    }
  ],
  "metadata": {
    "kernelspec": {
      "name": "python2",
      "display_name": "Python 2",
      "language": "python"
    },
    "language_info": {
      "mimetype": "text/x-python",
      "nbconvert_exporter": "python",
      "name": "python",
      "pygments_lexer": "ipython2",
      "version": "2.7.15",
      "file_extension": ".py",
      "codemirror_mode": {
        "version": 2,
        "name": "ipython"
      }
    }
  },
  "nbformat": 4,
  "nbformat_minor": 2
}